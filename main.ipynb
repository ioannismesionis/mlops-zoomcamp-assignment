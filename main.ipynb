{
 "cells": [
  {
   "cell_type": "code",
   "execution_count": null,
   "metadata": {},
   "outputs": [],
   "source": [
    "# Requirements\n",
    "# 1. Select a dataset & describe the problem ✅\n",
    "# 2. Train it using MLFlow ✅\n",
    "# 3. Create a pipeline (e.g. main.py) ✅\n",
    "# 4. Deploy with Docker\n",
    "#   - TODO: Test docker image starts with evidently UI\n",
    "# 5. Monitor using Evidently-AI\n",
    "\n",
    "# Extra\n",
    "# 7. Integration test???\n",
    "# 9. Create a Makefile\n"
   ]
  },
  {
   "cell_type": "code",
   "execution_count": null,
   "metadata": {},
   "outputs": [],
   "source": [
    "# Set up\n",
    "# Create a virtual environment and execute \"pip install -r requirements.txt\""
   ]
  },
  {
   "cell_type": "code",
   "execution_count": null,
   "metadata": {},
   "outputs": [],
   "source": [
    "# Step 1\n",
    "# Execute \"mlflow ui --backend-store-uri sqlite:///mlflow.db\""
   ]
  },
  {
   "cell_type": "code",
   "execution_count": null,
   "metadata": {},
   "outputs": [],
   "source": [
    "# Step 2.\n",
    "# Execute \"prefect server start\""
   ]
  },
  {
   "cell_type": "code",
   "execution_count": null,
   "metadata": {},
   "outputs": [],
   "source": [
    "# Step 3.\n",
    "# python src/etl/preprocessing.py\n",
    "\n",
    "# a. Run prefect flow of preprocessing\n",
    "# b. Saves encoder to src/etl/transformers/mean_encoder.pkl\n",
    "# c. Generates processed train_df.parquet in src/data/preprocessed/train_df.parquet"
   ]
  },
  {
   "cell_type": "code",
   "execution_count": null,
   "metadata": {},
   "outputs": [],
   "source": [
    "# Step 4.\n",
    "# python src/ml/hyperparameter_tuning.py\n",
    "\n",
    "# a. Run prefect flow of hyperparameter tuning\n",
    "# b. Stores runs in MLFlow\n",
    "# c. Uses optuna for hyperparameter tuning\n",
    "# d. Stores the data used for the hyperparameter tuning in src/data/final/..."
   ]
  },
  {
   "cell_type": "code",
   "execution_count": null,
   "metadata": {},
   "outputs": [],
   "source": [
    "# Step 5.\n",
    "# python src/ml/register_best_model.py\n",
    "\n",
    "# a. Run prefect flow of registering best model\n",
    "# b. Stores runs in MLFlow and registers the best model in model registry\n",
    "# c. Stores the best model in src/etl/transformers/model.pkl\n"
   ]
  },
  {
   "cell_type": "code",
   "execution_count": null,
   "metadata": {},
   "outputs": [],
   "source": [
    "# Step 6.\n",
    "# python src/ml/inference.py\n",
    "\n",
    "# a. Takes unseen data from src/data/raw/vehicles_2023-05.parquet and conducts all the preprocessing\n",
    "# b. Load the best model and produces inference\n",
    "# c. Run prefect flow of doing inference on unseen data stored in "
   ]
  },
  {
   "cell_type": "code",
   "execution_count": null,
   "metadata": {},
   "outputs": [],
   "source": [
    "# Step 7.\n",
    "# Execute \"evidently ui\" to generate the workspace folder to store the monitoring web reports"
   ]
  },
  {
   "cell_type": "code",
   "execution_count": null,
   "metadata": {},
   "outputs": [],
   "source": [
    "# Step 8.\n",
    "# python src/ml/monitoring.py\n",
    "\n",
    "# Created performance and data draft reports that can be opened with a web browser for visualisation or through the evidently UI"
   ]
  }
 ],
 "metadata": {
  "kernelspec": {
   "display_name": "venv",
   "language": "python",
   "name": "python3"
  },
  "language_info": {
   "codemirror_mode": {
    "name": "ipython",
    "version": 3
   },
   "file_extension": ".py",
   "mimetype": "text/x-python",
   "name": "python",
   "nbconvert_exporter": "python",
   "pygments_lexer": "ipython3",
   "version": "3.11.4"
  },
  "orig_nbformat": 4
 },
 "nbformat": 4,
 "nbformat_minor": 2
}
